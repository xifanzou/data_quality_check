{
 "cells": [
  {
   "cell_type": "code",
   "execution_count": 1,
   "metadata": {},
   "outputs": [
    {
     "name": "stdout",
     "output_type": "stream",
     "text": [
      "Processing c:\\users\\westwell\\documents\\.workdocuments\\github\\data_quality_check\n",
      "  Preparing metadata (setup.py): started\n",
      "  Preparing metadata (setup.py): finished with status 'done'\n",
      "Requirement already satisfied: pandas in c:\\users\\westwell\\anaconda3\\lib\\site-packages (from data-quality-tool==0.1) (2.0.3)\n",
      "Requirement already satisfied: python-dateutil>=2.8.2 in c:\\users\\westwell\\anaconda3\\lib\\site-packages (from pandas->data-quality-tool==0.1) (2.8.2)\n",
      "Requirement already satisfied: pytz>=2020.1 in c:\\users\\westwell\\anaconda3\\lib\\site-packages (from pandas->data-quality-tool==0.1) (2023.3.post1)\n",
      "Requirement already satisfied: tzdata>=2022.1 in c:\\users\\westwell\\anaconda3\\lib\\site-packages (from pandas->data-quality-tool==0.1) (2023.3)\n",
      "Requirement already satisfied: numpy>=1.21.0 in c:\\users\\westwell\\anaconda3\\lib\\site-packages (from pandas->data-quality-tool==0.1) (1.24.3)\n",
      "Requirement already satisfied: six>=1.5 in c:\\users\\westwell\\anaconda3\\lib\\site-packages (from python-dateutil>=2.8.2->pandas->data-quality-tool==0.1) (1.16.0)\n",
      "Building wheels for collected packages: data-quality-tool\n",
      "  Building wheel for data-quality-tool (setup.py): started\n",
      "  Building wheel for data-quality-tool (setup.py): finished with status 'done'\n",
      "  Created wheel for data-quality-tool: filename=data_quality_tool-0.1-py3-none-any.whl size=8455 sha256=ee564e798e13edd935f834c7f6b65b2426c91d5a8d9f8b6335459e3f06472358\n",
      "  Stored in directory: C:\\Users\\westwell\\AppData\\Local\\Temp\\pip-ephem-wheel-cache-wmhvbas8\\wheels\\7b\\31\\d3\\817a8fc5069aaa92c5599a785f56b246cd7a9620e536b5289d\n",
      "Successfully built data-quality-tool\n",
      "Installing collected packages: data-quality-tool\n",
      "  Attempting uninstall: data-quality-tool\n",
      "    Found existing installation: data-quality-tool 0.1\n",
      "    Uninstalling data-quality-tool-0.1:\n",
      "      Successfully uninstalled data-quality-tool-0.1\n",
      "Successfully installed data-quality-tool-0.1\n",
      "Note: you may need to restart the kernel to use updated packages.\n"
     ]
    }
   ],
   "source": [
    "pip install .\n"
   ]
  },
  {
   "cell_type": "code",
   "execution_count": null,
   "metadata": {},
   "outputs": [],
   "source": [
    "# RUN in terminal\n",
    "# Example of relative paths\n",
    "quality_check AT_data_standards.csv data_check_file"
   ]
  },
  {
   "cell_type": "code",
   "execution_count": 2,
   "metadata": {},
   "outputs": [
    {
     "name": "stdout",
     "output_type": "stream",
     "text": [
      "Collecting twine\n",
      "  Downloading twine-5.1.1-py3-none-any.whl.metadata (3.5 kB)\n",
      "Requirement already satisfied: pkginfo>=1.8.1 in c:\\users\\westwell\\anaconda3\\lib\\site-packages (from twine) (1.9.6)\n",
      "Collecting readme-renderer>=35.0 (from twine)\n",
      "  Downloading readme_renderer-44.0-py3-none-any.whl.metadata (2.8 kB)\n",
      "Requirement already satisfied: requests>=2.20 in c:\\users\\westwell\\anaconda3\\lib\\site-packages (from twine) (2.31.0)\n",
      "Requirement already satisfied: requests-toolbelt!=0.9.0,>=0.8.0 in c:\\users\\westwell\\anaconda3\\lib\\site-packages (from twine) (1.0.0)\n",
      "Requirement already satisfied: urllib3>=1.26.0 in c:\\users\\westwell\\anaconda3\\lib\\site-packages (from twine) (1.26.19)\n",
      "Requirement already satisfied: importlib-metadata>=3.6 in c:\\users\\westwell\\anaconda3\\lib\\site-packages (from twine) (7.0.1)\n",
      "Requirement already satisfied: keyring>=15.1 in c:\\users\\westwell\\anaconda3\\lib\\site-packages (from twine) (23.13.1)\n",
      "Collecting rfc3986>=1.4.0 (from twine)\n",
      "  Downloading rfc3986-2.0.0-py2.py3-none-any.whl.metadata (6.6 kB)\n",
      "Requirement already satisfied: rich>=12.0.0 in c:\\users\\westwell\\anaconda3\\lib\\site-packages (from twine) (13.7.1)\n",
      "Requirement already satisfied: zipp>=0.5 in c:\\users\\westwell\\anaconda3\\lib\\site-packages (from importlib-metadata>=3.6->twine) (3.11.0)\n",
      "Requirement already satisfied: jaraco.classes in c:\\users\\westwell\\anaconda3\\lib\\site-packages (from keyring>=15.1->twine) (3.2.1)\n",
      "Requirement already satisfied: pywin32-ctypes>=0.2.0 in c:\\users\\westwell\\anaconda3\\lib\\site-packages (from keyring>=15.1->twine) (0.2.0)\n",
      "Collecting nh3>=0.2.14 (from readme-renderer>=35.0->twine)\n",
      "  Downloading nh3-0.2.18-cp37-abi3-win_amd64.whl.metadata (1.8 kB)\n",
      "Collecting docutils>=0.21.2 (from readme-renderer>=35.0->twine)\n",
      "  Downloading docutils-0.21.2-py3-none-any.whl.metadata (2.8 kB)\n",
      "Requirement already satisfied: Pygments>=2.5.1 in c:\\users\\westwell\\anaconda3\\lib\\site-packages (from readme-renderer>=35.0->twine) (2.15.1)\n",
      "Requirement already satisfied: charset-normalizer<4,>=2 in c:\\users\\westwell\\anaconda3\\lib\\site-packages (from requests>=2.20->twine) (2.0.4)\n",
      "Requirement already satisfied: idna<4,>=2.5 in c:\\users\\westwell\\anaconda3\\lib\\site-packages (from requests>=2.20->twine) (3.4)\n",
      "Requirement already satisfied: certifi>=2017.4.17 in c:\\users\\westwell\\anaconda3\\lib\\site-packages (from requests>=2.20->twine) (2024.6.2)\n",
      "Requirement already satisfied: markdown-it-py>=2.2.0 in c:\\users\\westwell\\anaconda3\\lib\\site-packages (from rich>=12.0.0->twine) (2.2.0)\n",
      "Requirement already satisfied: mdurl~=0.1 in c:\\users\\westwell\\anaconda3\\lib\\site-packages (from markdown-it-py>=2.2.0->rich>=12.0.0->twine) (0.1.0)\n",
      "Requirement already satisfied: more-itertools in c:\\users\\westwell\\anaconda3\\lib\\site-packages (from jaraco.classes->keyring>=15.1->twine) (10.1.0)\n",
      "Downloading twine-5.1.1-py3-none-any.whl (38 kB)\n",
      "Downloading readme_renderer-44.0-py3-none-any.whl (13 kB)\n",
      "Downloading rfc3986-2.0.0-py2.py3-none-any.whl (31 kB)\n",
      "Downloading docutils-0.21.2-py3-none-any.whl (587 kB)\n",
      "   ---------------------------------------- 0.0/587.4 kB ? eta -:--:--\n",
      "   -- ------------------------------------ 41.0/587.4 kB 991.0 kB/s eta 0:00:01\n",
      "   -------- ------------------------------- 122.9/587.4 kB 1.4 MB/s eta 0:00:01\n",
      "   ---------------- ----------------------- 235.5/587.4 kB 1.8 MB/s eta 0:00:01\n",
      "   ---------------- ----------------------- 235.5/587.4 kB 1.8 MB/s eta 0:00:01\n",
      "   --------------------------------- ------ 491.5/587.4 kB 2.2 MB/s eta 0:00:01\n",
      "   ---------------------------------------- 587.4/587.4 kB 2.3 MB/s eta 0:00:00\n",
      "Downloading nh3-0.2.18-cp37-abi3-win_amd64.whl (579 kB)\n",
      "   ---------------------------------------- 0.0/579.0 kB ? eta -:--:--\n",
      "    --------------------------------------- 10.2/579.0 kB ? eta -:--:--\n",
      "   ----------------- ---------------------- 256.0/579.0 kB 2.6 MB/s eta 0:00:01\n",
      "   ---------------------------------------- 579.0/579.0 kB 5.2 MB/s eta 0:00:00\n",
      "Installing collected packages: nh3, rfc3986, docutils, readme-renderer, twine\n",
      "  Attempting uninstall: docutils\n",
      "    Found existing installation: docutils 0.18.1\n",
      "    Uninstalling docutils-0.18.1:\n",
      "      Successfully uninstalled docutils-0.18.1\n",
      "Successfully installed docutils-0.21.2 nh3-0.2.18 readme-renderer-44.0 rfc3986-2.0.0 twine-5.1.1\n",
      "Note: you may need to restart the kernel to use updated packages.\n"
     ]
    },
    {
     "name": "stderr",
     "output_type": "stream",
     "text": [
      "ERROR: pip's dependency resolver does not currently take into account all the packages that are installed. This behaviour is the source of the following dependency conflicts.\n",
      "sphinx 5.0.2 requires docutils<0.19,>=0.14, but you have docutils 0.21.2 which is incompatible.\n"
     ]
    }
   ],
   "source": [
    "pip install twine\n"
   ]
  },
  {
   "cell_type": "code",
   "execution_count": 1,
   "metadata": {},
   "outputs": [
    {
     "name": "stdout",
     "output_type": "stream",
     "text": [
      "Collecting build\n",
      "  Downloading build-1.2.1-py3-none-any.whl.metadata (4.3 kB)\n",
      "Requirement already satisfied: packaging>=19.1 in c:\\users\\westwell\\anaconda3\\lib\\site-packages (from build) (23.1)\n",
      "Collecting pyproject_hooks (from build)\n",
      "  Downloading pyproject_hooks-1.1.0-py3-none-any.whl.metadata (1.3 kB)\n",
      "Requirement already satisfied: colorama in c:\\users\\westwell\\anaconda3\\lib\\site-packages (from build) (0.4.6)\n",
      "Downloading build-1.2.1-py3-none-any.whl (21 kB)\n",
      "Downloading pyproject_hooks-1.1.0-py3-none-any.whl (9.2 kB)\n",
      "Installing collected packages: pyproject_hooks, build\n",
      "Successfully installed build-1.2.1 pyproject_hooks-1.1.0\n",
      "Note: you may need to restart the kernel to use updated packages.\n"
     ]
    }
   ],
   "source": [
    "pip install build"
   ]
  },
  {
   "cell_type": "code",
   "execution_count": null,
   "metadata": {},
   "outputs": [],
   "source": []
  }
 ],
 "metadata": {
  "kernelspec": {
   "display_name": "base",
   "language": "python",
   "name": "python3"
  },
  "language_info": {
   "codemirror_mode": {
    "name": "ipython",
    "version": 3
   },
   "file_extension": ".py",
   "mimetype": "text/x-python",
   "name": "python",
   "nbconvert_exporter": "python",
   "pygments_lexer": "ipython3",
   "version": "3.11.5"
  }
 },
 "nbformat": 4,
 "nbformat_minor": 2
}
