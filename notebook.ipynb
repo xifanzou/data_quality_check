{
 "cells": [
  {
   "cell_type": "code",
   "execution_count": 1,
   "metadata": {},
   "outputs": [
    {
     "name": "stdout",
     "output_type": "stream",
     "text": [
      "Processing c:\\users\\westwell\\documents\\.workdocuments\\github\\data_quality_check\n",
      "  Preparing metadata (setup.py): started\n",
      "  Preparing metadata (setup.py): finished with status 'done'\n",
      "Requirement already satisfied: pandas in c:\\users\\westwell\\anaconda3\\lib\\site-packages (from data-quality-tool==0.1) (2.0.3)\n",
      "Requirement already satisfied: python-dateutil>=2.8.2 in c:\\users\\westwell\\anaconda3\\lib\\site-packages (from pandas->data-quality-tool==0.1) (2.8.2)\n",
      "Requirement already satisfied: pytz>=2020.1 in c:\\users\\westwell\\anaconda3\\lib\\site-packages (from pandas->data-quality-tool==0.1) (2023.3.post1)\n",
      "Requirement already satisfied: tzdata>=2022.1 in c:\\users\\westwell\\anaconda3\\lib\\site-packages (from pandas->data-quality-tool==0.1) (2023.3)\n",
      "Requirement already satisfied: numpy>=1.21.0 in c:\\users\\westwell\\anaconda3\\lib\\site-packages (from pandas->data-quality-tool==0.1) (1.24.3)\n",
      "Requirement already satisfied: six>=1.5 in c:\\users\\westwell\\anaconda3\\lib\\site-packages (from python-dateutil>=2.8.2->pandas->data-quality-tool==0.1) (1.16.0)\n",
      "Building wheels for collected packages: data-quality-tool\n",
      "  Building wheel for data-quality-tool (setup.py): started\n",
      "  Building wheel for data-quality-tool (setup.py): finished with status 'done'\n",
      "  Created wheel for data-quality-tool: filename=data_quality_tool-0.1-py3-none-any.whl size=8455 sha256=ee564e798e13edd935f834c7f6b65b2426c91d5a8d9f8b6335459e3f06472358\n",
      "  Stored in directory: C:\\Users\\westwell\\AppData\\Local\\Temp\\pip-ephem-wheel-cache-wmhvbas8\\wheels\\7b\\31\\d3\\817a8fc5069aaa92c5599a785f56b246cd7a9620e536b5289d\n",
      "Successfully built data-quality-tool\n",
      "Installing collected packages: data-quality-tool\n",
      "  Attempting uninstall: data-quality-tool\n",
      "    Found existing installation: data-quality-tool 0.1\n",
      "    Uninstalling data-quality-tool-0.1:\n",
      "      Successfully uninstalled data-quality-tool-0.1\n",
      "Successfully installed data-quality-tool-0.1\n",
      "Note: you may need to restart the kernel to use updated packages.\n"
     ]
    }
   ],
   "source": [
    "pip install .\n"
   ]
  }
 ],
 "metadata": {
  "kernelspec": {
   "display_name": "base",
   "language": "python",
   "name": "python3"
  },
  "language_info": {
   "codemirror_mode": {
    "name": "ipython",
    "version": 3
   },
   "file_extension": ".py",
   "mimetype": "text/x-python",
   "name": "python",
   "nbconvert_exporter": "python",
   "pygments_lexer": "ipython3",
   "version": "3.11.5"
  }
 },
 "nbformat": 4,
 "nbformat_minor": 2
}
